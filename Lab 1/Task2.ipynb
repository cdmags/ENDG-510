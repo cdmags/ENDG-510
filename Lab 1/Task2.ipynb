{
 "cells": [
  {
   "cell_type": "code",
   "execution_count": 1,
   "id": "6a8ad7dc-ce7e-495f-9e5b-0f3d5569b21a",
   "metadata": {},
   "outputs": [],
   "source": [
    "#load class\n",
    "import numpy as np\n",
    "import pandas as pd # in case it's not installed then install using conda create -c conda-forge -n name_of_my_env python pandas\n",
    "# more installations information can be found: https://pandas.pydata.org/docs/getting_started/install.html\n",
    "import os\n",
    "#load sklearn module for creating and evaluating ML models. In case sklearn isn't installed,\n",
    "#follow this link https://scikit-learn.org/stable/install.html for further details on the installation process.\n",
    "from sklearn.neighbors import KNeighborsClassifier #load your classifier. In this code, I have used KNN. You can choose other algorithms. You have to use at least 3 to complete this.\n",
    "from sklearn.linear_model import LogisticRegression\n",
    "from sklearn.naive_bayes import GaussianNB\n",
    "from sklearn.preprocessing import StandardScaler #module for perform scaling\n",
    "from sklearn.model_selection import train_test_split #module for splitting datatset\n",
    "from sklearn import metrics #module for evaluating performance"
   ]
  },
  {
   "cell_type": "code",
   "execution_count": 2,
   "id": "e06ac587-a140-4ea6-8c07-6ec37aa6a26b",
   "metadata": {},
   "outputs": [
    {
     "data": {
      "text/html": [
       "<div>\n",
       "<style scoped>\n",
       "    .dataframe tbody tr th:only-of-type {\n",
       "        vertical-align: middle;\n",
       "    }\n",
       "\n",
       "    .dataframe tbody tr th {\n",
       "        vertical-align: top;\n",
       "    }\n",
       "\n",
       "    .dataframe thead th {\n",
       "        text-align: right;\n",
       "    }\n",
       "</style>\n",
       "<table border=\"1\" class=\"dataframe\">\n",
       "  <thead>\n",
       "    <tr style=\"text-align: right;\">\n",
       "      <th></th>\n",
       "      <th>Temp</th>\n",
       "      <th>Humd</th>\n",
       "      <th>Label</th>\n",
       "    </tr>\n",
       "  </thead>\n",
       "  <tbody>\n",
       "    <tr>\n",
       "      <th>0</th>\n",
       "      <td>25</td>\n",
       "      <td>37</td>\n",
       "      <td>1</td>\n",
       "    </tr>\n",
       "    <tr>\n",
       "      <th>1</th>\n",
       "      <td>25</td>\n",
       "      <td>37</td>\n",
       "      <td>1</td>\n",
       "    </tr>\n",
       "    <tr>\n",
       "      <th>2</th>\n",
       "      <td>25</td>\n",
       "      <td>37</td>\n",
       "      <td>1</td>\n",
       "    </tr>\n",
       "    <tr>\n",
       "      <th>3</th>\n",
       "      <td>25</td>\n",
       "      <td>37</td>\n",
       "      <td>1</td>\n",
       "    </tr>\n",
       "    <tr>\n",
       "      <th>4</th>\n",
       "      <td>25</td>\n",
       "      <td>36</td>\n",
       "      <td>1</td>\n",
       "    </tr>\n",
       "  </tbody>\n",
       "</table>\n",
       "</div>"
      ],
      "text/plain": [
       "   Temp  Humd  Label\n",
       "0    25    37      1\n",
       "1    25    37      1\n",
       "2    25    37      1\n",
       "3    25    37      1\n",
       "4    25    36      1"
      ]
     },
     "execution_count": 2,
     "metadata": {},
     "output_type": "execute_result"
    }
   ],
   "source": [
    "#load your data\n",
    "df = pd.read_csv(\"data.csv\") #change the name accordingly\n",
    "df.head() # prints top 5 rows from the datatset to check data is load or not"
   ]
  },
  {
   "cell_type": "code",
   "execution_count": 3,
   "id": "821bfdad-7cdf-43b4-859a-588db353ed32",
   "metadata": {},
   "outputs": [
    {
     "name": "stdout",
     "output_type": "stream",
     "text": [
      "Missing Values:\n",
      " Temp     0\n",
      "Humd     0\n",
      "Label    0\n",
      "dtype: int64\n"
     ]
    }
   ],
   "source": [
    "# Check for missing values\n",
    "missing_values = df.isnull().sum()\n",
    "print(\"Missing Values:\\n\", missing_values)"
   ]
  },
  {
   "cell_type": "code",
   "execution_count": 4,
   "id": "68dd4c3b-2d28-486d-bd84-be15e359daad",
   "metadata": {},
   "outputs": [],
   "source": [
    "# remove duplicates\n",
    "df = df.drop_duplicates()"
   ]
  },
  {
   "cell_type": "code",
   "execution_count": 5,
   "id": "494d0409-9563-44db-a974-615153d64874",
   "metadata": {},
   "outputs": [],
   "source": [
    "# prepare features\n",
    "x = df.drop(['Label'],axis=1) #remove class or label\n",
    "y = df['Label'] #load label"
   ]
  },
  {
   "cell_type": "code",
   "execution_count": 6,
   "id": "e149619e-ee73-48a2-b58e-8bb0c304158a",
   "metadata": {},
   "outputs": [],
   "source": [
    "x_train,x_test,y_train,y_test = train_test_split(x,y,test_size=.2) #split datatset. Here ratio is 80:20. Change accordingly"
   ]
  },
  {
   "cell_type": "code",
   "execution_count": 7,
   "id": "2da4f8bd-6ee3-46b4-89a3-699513b0f8ad",
   "metadata": {},
   "outputs": [],
   "source": [
    "# Scale the data using standardization\n",
    "scaler = StandardScaler()\n",
    "x_train = scaler.fit_transform(x_train) #scale training set\n",
    "x_test = scaler.transform(x_test) #scale test set"
   ]
  },
  {
   "cell_type": "code",
   "execution_count": 8,
   "id": "79297f19-c6fc-45b8-a558-d3c3eb302cc3",
   "metadata": {},
   "outputs": [],
   "source": [
    "z = KNeighborsClassifier(n_neighbors=3) # KNN classifier for 3 neighbours\n",
    "KNN = z.fit(x_train,y_train) # start training\n",
    "predict = KNN.predict(x_test) # performance in the test set"
   ]
  },
  {
   "cell_type": "code",
   "execution_count": 9,
   "id": "8bb466d8-5af7-46a9-952f-f2da4252d16b",
   "metadata": {},
   "outputs": [
    {
     "name": "stdout",
     "output_type": "stream",
     "text": [
      "Accuracy: 1.0\n"
     ]
    }
   ],
   "source": [
    "print(\"Accuracy:\", metrics.accuracy_score(y_test,predict)) # evaluating the performance based on accuracy"
   ]
  },
  {
   "cell_type": "code",
   "execution_count": 10,
   "id": "fbcf664b-c2e1-412c-8a31-f3914bea5b78",
   "metadata": {},
   "outputs": [],
   "source": [
    "# library for save and load scikit-learn models\n",
    "import pickle\n",
    "# file name, recommending *.pickle as a file extension\n",
    "filename = \"model.pickle\"\n",
    "# save model\n",
    "pickle.dump(z, open(filename, \"wb\"))"
   ]
  },
  {
   "cell_type": "code",
   "execution_count": 11,
   "id": "7fbf6c34-2d5f-4f2e-af57-2a66ff66ad47",
   "metadata": {},
   "outputs": [],
   "source": [
    "a = LogisticRegression()\n",
    "LR = a.fit(x_train,y_train) # start training\n",
    "predictLR = LR.predict(x_test) # performance in the test set"
   ]
  },
  {
   "cell_type": "code",
   "execution_count": 12,
   "id": "3605878a-e299-4d32-bec3-eb9edf079d73",
   "metadata": {},
   "outputs": [
    {
     "name": "stdout",
     "output_type": "stream",
     "text": [
      "Accuracy: 1.0\n"
     ]
    }
   ],
   "source": [
    "print(\"Accuracy:\", metrics.accuracy_score(y_test,predictLR)) # evaluating the performance based on accuracy"
   ]
  },
  {
   "cell_type": "code",
   "execution_count": 13,
   "id": "0370b25c-8062-49bd-84d6-8c8c63620e28",
   "metadata": {},
   "outputs": [],
   "source": [
    "# file name, recommending *.pickle as a file extension\n",
    "filenameLR = \"modelLR.pickle\"\n",
    "# save model\n",
    "pickle.dump(a, open(filenameLR, \"wb\"))"
   ]
  },
  {
   "cell_type": "code",
   "execution_count": 14,
   "id": "6a462226-8b26-4559-9543-788a1c9b953a",
   "metadata": {},
   "outputs": [],
   "source": [
    "b = GaussianNB()\n",
    "NB = b.fit(x_train,y_train) # start training\n",
    "predictNB = NB.predict(x_test) # performance in the test set"
   ]
  },
  {
   "cell_type": "code",
   "execution_count": 15,
   "id": "e094d2e6-3cd6-4df8-b15c-8f2a685295b4",
   "metadata": {},
   "outputs": [
    {
     "name": "stdout",
     "output_type": "stream",
     "text": [
      "Accuracy: 1.0\n"
     ]
    }
   ],
   "source": [
    "print(\"Accuracy:\", metrics.accuracy_score(y_test,predictNB)) # evaluating the performance based on accuracy"
   ]
  },
  {
   "cell_type": "code",
   "execution_count": 16,
   "id": "9ae7a68b-79d1-4f1c-8ad7-33cdf12d544a",
   "metadata": {},
   "outputs": [],
   "source": [
    "# file name, recommending *.pickle as a file extension\n",
    "filenameNB = \"modelNB.pickle\"\n",
    "# save model\n",
    "pickle.dump(b, open(filenameNB, \"wb\"))"
   ]
  }
 ],
 "metadata": {
  "kernelspec": {
   "display_name": "Python 3 (ipykernel)",
   "language": "python",
   "name": "python3"
  },
  "language_info": {
   "codemirror_mode": {
    "name": "ipython",
    "version": 3
   },
   "file_extension": ".py",
   "mimetype": "text/x-python",
   "name": "python",
   "nbconvert_exporter": "python",
   "pygments_lexer": "ipython3",
   "version": "3.12.7"
  }
 },
 "nbformat": 4,
 "nbformat_minor": 5
}
